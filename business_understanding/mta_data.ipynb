{
 "cells": [
  {
   "cell_type": "code",
   "execution_count": 1,
   "id": "73cdc849",
   "metadata": {},
   "outputs": [],
   "source": [
    "import pandas as pd\n",
    "import seaborn as sns\n",
    "import matplotlib.pyplot as plt"
   ]
  },
  {
   "cell_type": "code",
   "execution_count": 2,
   "id": "3295ff96",
   "metadata": {},
   "outputs": [],
   "source": [
    "def get_data(weeks):\n",
    "   url = \"http://web.mta.info/developers/data/nyct/turnstile/turnstile_{}.txt\"\n",
    "\n",
    "   dfs = []\n",
    "   for week in weeks:\n",
    "       file_url = url.format(week)\n",
    "       dfs.append(pd.read_csv(file_url))\n",
    "   return pd.concat(dfs)\n",
    " \n",
    "weeks = [220305, 220226, 220219, 220212, 220205, 220129, 220122, 220115, 220108, 220101, 211225, 211218, 211211, \n",
    "            211204, 211127, 211120, 211113, 211106, 211030, 211023, 211016, 211009, 211002, 210925, 210918, 210911, 210904,\n",
    "            210828, 210821, 210814, 210807, 210731, 210724, 210717, 210710, 210703, 210626, 210619, 210612, 210605,\n",
    "            210529, 210522, 210515, 210508, 210501, 210424, 210417, 210410, 210403, 210327, 210320, 210313, 210306,\n",
    "            210227, 210220, 210213, 210206, 210130, 210123, 210116, 210109, 210102, 201226, 201219, 201212, 201205,\n",
    "            201128, 201121, 201114, 201107, 201031, 201024, 201017, 201010, 201003, 200926, 200919, 200912, 200905,\n",
    "            200829, 200822, 200815, 200808, 200801, 200725, 200718, 200711, 200704, 200627, 200620, 200613, 200606,\n",
    "            200530, 200523, 200516, 200509, 200502, 200425, 200418, 200411, 200404, 200328, 200321, 200314, 200307,\n",
    "            200229, 200222, 200215, 200208, 200201, 200125, 200118, 200111]\n",
    "\n",
    "df = get_data(weeks)\n",
    "\n",
    "#df.reset_index(inplace = True) ## Reset the indexes\n",
    "#df.drop(columns='index', inplace=True)"
   ]
  },
  {
   "cell_type": "code",
   "execution_count": 3,
   "id": "7824534c",
   "metadata": {},
   "outputs": [],
   "source": [
    "#df.drop(['Unnamed: 0'], axis=1, inplace=True)"
   ]
  },
  {
   "cell_type": "code",
   "execution_count": 4,
   "id": "325709ee",
   "metadata": {},
   "outputs": [],
   "source": [
    "df.to_csv(r'/Users/atalaybarut/Downloads/mta_data_2.csv')"
   ]
  }
 ],
 "metadata": {
  "kernelspec": {
   "display_name": "Python 3.9.7 64-bit ('base': conda)",
   "language": "python",
   "name": "python397jvsc74a57bd0b2340f7de3a747b45869500d72777f24744c5eaf7e7fc51f92267a73156959d4"
  },
  "language_info": {
   "codemirror_mode": {
    "name": "ipython",
    "version": 3
   },
   "file_extension": ".py",
   "mimetype": "text/x-python",
   "name": "python",
   "nbconvert_exporter": "python",
   "pygments_lexer": "ipython3",
   "version": "3.9.7"
  }
 },
 "nbformat": 4,
 "nbformat_minor": 5
}
